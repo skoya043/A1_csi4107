{
 "cells": [
  {
   "cell_type": "code",
   "execution_count": 91,
   "id": "corrected-speaker",
   "metadata": {},
   "outputs": [],
   "source": [
    "import pandas as pd\n",
    "df=pd.read_excel(\"messages.xls\", \n",
    "                  header=None, usecols=[0, 1], names=['ID', 'text'])"
   ]
  },
  {
   "cell_type": "code",
   "execution_count": 92,
   "id": "looking-breathing",
   "metadata": {},
   "outputs": [
    {
     "data": {
      "text/html": [
       "<div>\n",
       "<style scoped>\n",
       "    .dataframe tbody tr th:only-of-type {\n",
       "        vertical-align: middle;\n",
       "    }\n",
       "\n",
       "    .dataframe tbody tr th {\n",
       "        vertical-align: top;\n",
       "    }\n",
       "\n",
       "    .dataframe thead th {\n",
       "        text-align: right;\n",
       "    }\n",
       "</style>\n",
       "<table border=\"1\" class=\"dataframe\">\n",
       "  <thead>\n",
       "    <tr style=\"text-align: right;\">\n",
       "      <th></th>\n",
       "      <th>ID</th>\n",
       "      <th>text</th>\n",
       "    </tr>\n",
       "  </thead>\n",
       "  <tbody>\n",
       "    <tr>\n",
       "      <th>0</th>\n",
       "      <td>34952194402811904</td>\n",
       "      <td>Save BBC World Service from Savage Cuts http:/...</td>\n",
       "    </tr>\n",
       "    <tr>\n",
       "      <th>1</th>\n",
       "      <td>34952186328784896</td>\n",
       "      <td>a lot of people always make fun about the end ...</td>\n",
       "    </tr>\n",
       "    <tr>\n",
       "      <th>2</th>\n",
       "      <td>34952041415581696</td>\n",
       "      <td>ReThink Group positive in outlook: Technology ...</td>\n",
       "    </tr>\n",
       "    <tr>\n",
       "      <th>3</th>\n",
       "      <td>34952018120409088</td>\n",
       "      <td>'Zombie' fund manager Phoenix appoints new CEO...</td>\n",
       "    </tr>\n",
       "    <tr>\n",
       "      <th>4</th>\n",
       "      <td>34952008683229185</td>\n",
       "      <td>Latest:: Top World Releases http://globalclass...</td>\n",
       "    </tr>\n",
       "  </tbody>\n",
       "</table>\n",
       "</div>"
      ],
      "text/plain": [
       "                  ID                                               text\n",
       "0  34952194402811904  Save BBC World Service from Savage Cuts http:/...\n",
       "1  34952186328784896  a lot of people always make fun about the end ...\n",
       "2  34952041415581696  ReThink Group positive in outlook: Technology ...\n",
       "3  34952018120409088  'Zombie' fund manager Phoenix appoints new CEO...\n",
       "4  34952008683229185  Latest:: Top World Releases http://globalclass..."
      ]
     },
     "execution_count": 92,
     "metadata": {},
     "output_type": "execute_result"
    }
   ],
   "source": [
    "df.head()"
   ]
  },
  {
   "cell_type": "code",
   "execution_count": 93,
   "id": "rising-obligation",
   "metadata": {},
   "outputs": [],
   "source": [
    "from nltk.corpus import stopwords\n",
    "stop = stopwords.words('english')"
   ]
  },
  {
   "cell_type": "code",
   "execution_count": null,
   "id": "religious-perry",
   "metadata": {},
   "outputs": [],
   "source": [
    "\n"
   ]
  },
  {
   "cell_type": "code",
   "execution_count": 138,
   "id": "found-healthcare",
   "metadata": {},
   "outputs": [
    {
     "name": "stderr",
     "output_type": "stream",
     "text": [
      "<ipython-input-138-9669622a4235>:2: FutureWarning: The default value of regex will change from True to False in a future version.\n",
      "  df['text_without_stopwords'] = df['text_without_stopwords'].str.replace('\\d+', '')\n"
     ]
    }
   ],
   "source": [
    "df['text_without_stopwords'] = df['text'].apply(lambda x: ' '.join([word for word in str(x).split() if word not in (stop)]))\n",
    "df['text_without_stopwords'] = df['text_without_stopwords'].str.replace('\\d+', '')\n",
    "df['text_without_stopwords']=df['text_without_stopwords'].apply(str.lower)\n"
   ]
  },
  {
   "cell_type": "code",
   "execution_count": 139,
   "id": "increasing-hammer",
   "metadata": {},
   "outputs": [
    {
     "data": {
      "text/html": [
       "<div>\n",
       "<style scoped>\n",
       "    .dataframe tbody tr th:only-of-type {\n",
       "        vertical-align: middle;\n",
       "    }\n",
       "\n",
       "    .dataframe tbody tr th {\n",
       "        vertical-align: top;\n",
       "    }\n",
       "\n",
       "    .dataframe thead th {\n",
       "        text-align: right;\n",
       "    }\n",
       "</style>\n",
       "<table border=\"1\" class=\"dataframe\">\n",
       "  <thead>\n",
       "    <tr style=\"text-align: right;\">\n",
       "      <th></th>\n",
       "      <th>ID</th>\n",
       "      <th>text</th>\n",
       "      <th>text_without_stopwords</th>\n",
       "      <th>token</th>\n",
       "    </tr>\n",
       "  </thead>\n",
       "  <tbody>\n",
       "    <tr>\n",
       "      <th>0</th>\n",
       "      <td>34952194402811904</td>\n",
       "      <td>Save BBC World Service from Savage Cuts http:/...</td>\n",
       "      <td>save bbc world service savage cuts http://www....</td>\n",
       "      <td>[Save, BBC, World, Service, Savage, Cuts, http...</td>\n",
       "    </tr>\n",
       "    <tr>\n",
       "      <th>1</th>\n",
       "      <td>34952186328784896</td>\n",
       "      <td>a lot of people always make fun about the end ...</td>\n",
       "      <td>lot people always make fun end world question ...</td>\n",
       "      <td>[lot, people, always, make, fun, end, world, q...</td>\n",
       "    </tr>\n",
       "    <tr>\n",
       "      <th>2</th>\n",
       "      <td>34952041415581696</td>\n",
       "      <td>ReThink Group positive in outlook: Technology ...</td>\n",
       "      <td>rethink group positive outlook: technology sta...</td>\n",
       "      <td>[ReThink, Group, positive, outlook, Technology...</td>\n",
       "    </tr>\n",
       "    <tr>\n",
       "      <th>3</th>\n",
       "      <td>34952018120409088</td>\n",
       "      <td>'Zombie' fund manager Phoenix appoints new CEO...</td>\n",
       "      <td>'zombie' fund manager phoenix appoints new ceo...</td>\n",
       "      <td>[Zombie, fund, manager, Phoenix, appoints, new...</td>\n",
       "    </tr>\n",
       "    <tr>\n",
       "      <th>4</th>\n",
       "      <td>34952008683229185</td>\n",
       "      <td>Latest:: Top World Releases http://globalclass...</td>\n",
       "      <td>latest:: top world releases http://globalclass...</td>\n",
       "      <td>[Latest, Top, World, Releases, http, globalcla...</td>\n",
       "    </tr>\n",
       "  </tbody>\n",
       "</table>\n",
       "</div>"
      ],
      "text/plain": [
       "                  ID                                               text  \\\n",
       "0  34952194402811904  Save BBC World Service from Savage Cuts http:/...   \n",
       "1  34952186328784896  a lot of people always make fun about the end ...   \n",
       "2  34952041415581696  ReThink Group positive in outlook: Technology ...   \n",
       "3  34952018120409088  'Zombie' fund manager Phoenix appoints new CEO...   \n",
       "4  34952008683229185  Latest:: Top World Releases http://globalclass...   \n",
       "\n",
       "                              text_without_stopwords  \\\n",
       "0  save bbc world service savage cuts http://www....   \n",
       "1  lot people always make fun end world question ...   \n",
       "2  rethink group positive outlook: technology sta...   \n",
       "3  'zombie' fund manager phoenix appoints new ceo...   \n",
       "4  latest:: top world releases http://globalclass...   \n",
       "\n",
       "                                               token  \n",
       "0  [Save, BBC, World, Service, Savage, Cuts, http...  \n",
       "1  [lot, people, always, make, fun, end, world, q...  \n",
       "2  [ReThink, Group, positive, outlook, Technology...  \n",
       "3  [Zombie, fund, manager, Phoenix, appoints, new...  \n",
       "4  [Latest, Top, World, Releases, http, globalcla...  "
      ]
     },
     "execution_count": 139,
     "metadata": {},
     "output_type": "execute_result"
    }
   ],
   "source": [
    "df.head()"
   ]
  },
  {
   "cell_type": "code",
   "execution_count": 140,
   "id": "dedicated-divorce",
   "metadata": {},
   "outputs": [],
   "source": [
    "from nltk.tokenize import RegexpTokenizer\n",
    "\n",
    "tokenizer = RegexpTokenizer(r'\\w+')\n",
    "df['token'] = df['text_without_stopwords'].apply(tokenizer.tokenize)\n"
   ]
  },
  {
   "cell_type": "code",
   "execution_count": 141,
   "id": "animal-stability",
   "metadata": {},
   "outputs": [
    {
     "data": {
      "text/html": [
       "<div>\n",
       "<style scoped>\n",
       "    .dataframe tbody tr th:only-of-type {\n",
       "        vertical-align: middle;\n",
       "    }\n",
       "\n",
       "    .dataframe tbody tr th {\n",
       "        vertical-align: top;\n",
       "    }\n",
       "\n",
       "    .dataframe thead th {\n",
       "        text-align: right;\n",
       "    }\n",
       "</style>\n",
       "<table border=\"1\" class=\"dataframe\">\n",
       "  <thead>\n",
       "    <tr style=\"text-align: right;\">\n",
       "      <th></th>\n",
       "      <th>ID</th>\n",
       "      <th>text</th>\n",
       "      <th>text_without_stopwords</th>\n",
       "      <th>token</th>\n",
       "    </tr>\n",
       "  </thead>\n",
       "  <tbody>\n",
       "    <tr>\n",
       "      <th>0</th>\n",
       "      <td>34952194402811904</td>\n",
       "      <td>Save BBC World Service from Savage Cuts http:/...</td>\n",
       "      <td>save bbc world service savage cuts http://www....</td>\n",
       "      <td>[save, bbc, world, service, savage, cuts, http...</td>\n",
       "    </tr>\n",
       "    <tr>\n",
       "      <th>1</th>\n",
       "      <td>34952186328784896</td>\n",
       "      <td>a lot of people always make fun about the end ...</td>\n",
       "      <td>lot people always make fun end world question ...</td>\n",
       "      <td>[lot, people, always, make, fun, end, world, q...</td>\n",
       "    </tr>\n",
       "    <tr>\n",
       "      <th>2</th>\n",
       "      <td>34952041415581696</td>\n",
       "      <td>ReThink Group positive in outlook: Technology ...</td>\n",
       "      <td>rethink group positive outlook: technology sta...</td>\n",
       "      <td>[rethink, group, positive, outlook, technology...</td>\n",
       "    </tr>\n",
       "    <tr>\n",
       "      <th>3</th>\n",
       "      <td>34952018120409088</td>\n",
       "      <td>'Zombie' fund manager Phoenix appoints new CEO...</td>\n",
       "      <td>'zombie' fund manager phoenix appoints new ceo...</td>\n",
       "      <td>[zombie, fund, manager, phoenix, appoints, new...</td>\n",
       "    </tr>\n",
       "    <tr>\n",
       "      <th>4</th>\n",
       "      <td>34952008683229185</td>\n",
       "      <td>Latest:: Top World Releases http://globalclass...</td>\n",
       "      <td>latest:: top world releases http://globalclass...</td>\n",
       "      <td>[latest, top, world, releases, http, globalcla...</td>\n",
       "    </tr>\n",
       "  </tbody>\n",
       "</table>\n",
       "</div>"
      ],
      "text/plain": [
       "                  ID                                               text  \\\n",
       "0  34952194402811904  Save BBC World Service from Savage Cuts http:/...   \n",
       "1  34952186328784896  a lot of people always make fun about the end ...   \n",
       "2  34952041415581696  ReThink Group positive in outlook: Technology ...   \n",
       "3  34952018120409088  'Zombie' fund manager Phoenix appoints new CEO...   \n",
       "4  34952008683229185  Latest:: Top World Releases http://globalclass...   \n",
       "\n",
       "                              text_without_stopwords  \\\n",
       "0  save bbc world service savage cuts http://www....   \n",
       "1  lot people always make fun end world question ...   \n",
       "2  rethink group positive outlook: technology sta...   \n",
       "3  'zombie' fund manager phoenix appoints new ceo...   \n",
       "4  latest:: top world releases http://globalclass...   \n",
       "\n",
       "                                               token  \n",
       "0  [save, bbc, world, service, savage, cuts, http...  \n",
       "1  [lot, people, always, make, fun, end, world, q...  \n",
       "2  [rethink, group, positive, outlook, technology...  \n",
       "3  [zombie, fund, manager, phoenix, appoints, new...  \n",
       "4  [latest, top, world, releases, http, globalcla...  "
      ]
     },
     "execution_count": 141,
     "metadata": {},
     "output_type": "execute_result"
    }
   ],
   "source": [
    "df.head()\n"
   ]
  },
  {
   "cell_type": "code",
   "execution_count": 142,
   "id": "coral-benchmark",
   "metadata": {},
   "outputs": [
    {
     "data": {
      "text/plain": [
       "['bbc',\n",
       " 'news',\n",
       " 'charles',\n",
       " 'taylor',\n",
       " 'lawyer',\n",
       " 'storms',\n",
       " 'war',\n",
       " 'crimes',\n",
       " 'trial',\n",
       " 'http',\n",
       " 'www',\n",
       " 'bbc',\n",
       " 'co',\n",
       " 'uk',\n",
       " 'news',\n",
       " 'world',\n",
       " 'africa']"
      ]
     },
     "execution_count": 142,
     "metadata": {},
     "output_type": "execute_result"
    }
   ],
   "source": [
    "#test to see if numbers have been removed\n",
    "df['token'][26]"
   ]
  },
  {
   "cell_type": "code",
   "execution_count": 143,
   "id": "nasty-simpson",
   "metadata": {},
   "outputs": [
    {
     "data": {
      "text/plain": [
       "['good',\n",
       " 'morning',\n",
       " 'world',\n",
       " 'i',\n",
       " 'feel',\n",
       " 'pretty',\n",
       " 'happy',\n",
       " 'today',\n",
       " 'loving',\n",
       " 'life']"
      ]
     },
     "execution_count": 143,
     "metadata": {},
     "output_type": "execute_result"
    }
   ],
   "source": [
    "df['token'][27]"
   ]
  },
  {
   "cell_type": "code",
   "execution_count": 152,
   "id": "complimentary-article",
   "metadata": {},
   "outputs": [],
   "source": [
    "from collections import defaultdict\n",
    "def create_index (data):\n",
    "        index = defaultdict(list)\n",
    "        for i, tokens in enumerate(data):\n",
    "            for token in tokens:\n",
    "                index[token].append(i)\n",
    "        return index"
   ]
  },
  {
   "cell_type": "code",
   "execution_count": 155,
   "id": "transparent-corner",
   "metadata": {},
   "outputs": [],
   "source": [
    "for index, row in df.iterrows():\n",
    "    create_index (row['token'])"
   ]
  },
  {
   "cell_type": "code",
   "execution_count": 148,
   "id": "pregnant-biology",
   "metadata": {},
   "outputs": [
    {
     "data": {
      "text/plain": [
       "defaultdict(list,\n",
       "            {'bbc': [0, 0],\n",
       "             'news': [0, 0],\n",
       "             'charles': [0],\n",
       "             'taylor': [0],\n",
       "             'lawyer': [0],\n",
       "             'storms': [0],\n",
       "             'war': [0],\n",
       "             'crimes': [0],\n",
       "             'trial': [0],\n",
       "             'http': [0],\n",
       "             'www': [0],\n",
       "             'co': [0],\n",
       "             'uk': [0],\n",
       "             'world': [0, 1],\n",
       "             'africa': [0],\n",
       "             'good': [1],\n",
       "             'morning': [1],\n",
       "             'i': [1],\n",
       "             'feel': [1],\n",
       "             'pretty': [1],\n",
       "             'happy': [1],\n",
       "             'today': [1],\n",
       "             'loving': [1],\n",
       "             'life': [1]})"
      ]
     },
     "execution_count": 148,
     "metadata": {},
     "output_type": "execute_result"
    }
   ],
   "source": [
    "create_index([df['token'][26], df['token'][27]])"
   ]
  },
  {
   "cell_type": "code",
   "execution_count": 103,
   "id": "biological-teacher",
   "metadata": {},
   "outputs": [
    {
     "ename": "NameError",
     "evalue": "name 're' is not defined",
     "output_type": "error",
     "traceback": [
      "\u001b[0;31m---------------------------------------------------------------------------\u001b[0m",
      "\u001b[0;31mNameError\u001b[0m                                 Traceback (most recent call last)",
      "\u001b[0;32m<ipython-input-103-c390e22d5a15>\u001b[0m in \u001b[0;36m<module>\u001b[0;34m\u001b[0m\n\u001b[1;32m     27\u001b[0m         \u001b[0mprint\u001b[0m\u001b[0;34m(\u001b[0m\u001b[0;34m\"-----------------------------\"\u001b[0m\u001b[0;34m)\u001b[0m\u001b[0;34m\u001b[0m\u001b[0;34m\u001b[0m\u001b[0m\n\u001b[1;32m     28\u001b[0m \u001b[0;34m\u001b[0m\u001b[0m\n\u001b[0;32m---> 29\u001b[0;31m \u001b[0mmain\u001b[0m\u001b[0;34m(\u001b[0m\u001b[0;34m)\u001b[0m\u001b[0;34m\u001b[0m\u001b[0;34m\u001b[0m\u001b[0m\n\u001b[0m",
      "\u001b[0;32m<ipython-input-103-c390e22d5a15>\u001b[0m in \u001b[0;36mmain\u001b[0;34m()\u001b[0m\n\u001b[1;32m     13\u001b[0m         \u001b[0;34m'text'\u001b[0m\u001b[0;34m:\u001b[0m \u001b[0;34m'Belgium has great beer. They drink beer all the time.'\u001b[0m\u001b[0;34m\u001b[0m\u001b[0;34m\u001b[0m\u001b[0m\n\u001b[1;32m     14\u001b[0m     }\n\u001b[0;32m---> 15\u001b[0;31m     \u001b[0mindex\u001b[0m\u001b[0;34m.\u001b[0m\u001b[0mindex_document\u001b[0m\u001b[0;34m(\u001b[0m\u001b[0mdocument1\u001b[0m\u001b[0;34m)\u001b[0m\u001b[0;34m\u001b[0m\u001b[0;34m\u001b[0m\u001b[0m\n\u001b[0m\u001b[1;32m     16\u001b[0m     \u001b[0mindex\u001b[0m\u001b[0;34m.\u001b[0m\u001b[0mindex_document\u001b[0m\u001b[0;34m(\u001b[0m\u001b[0mdocument2\u001b[0m\u001b[0;34m)\u001b[0m\u001b[0;34m\u001b[0m\u001b[0;34m\u001b[0m\u001b[0m\n\u001b[1;32m     17\u001b[0m \u001b[0;34m\u001b[0m\u001b[0m\n",
      "\u001b[0;32m<ipython-input-102-ce8fcaa458d4>\u001b[0m in \u001b[0;36mindex_document\u001b[0;34m(self, document)\u001b[0m\n\u001b[1;32m     18\u001b[0m \u001b[0;34m\u001b[0m\u001b[0m\n\u001b[1;32m     19\u001b[0m         \u001b[0;31m# Remove punctuation from the text.\u001b[0m\u001b[0;34m\u001b[0m\u001b[0;34m\u001b[0m\u001b[0;34m\u001b[0m\u001b[0m\n\u001b[0;32m---> 20\u001b[0;31m         \u001b[0mclean_text\u001b[0m \u001b[0;34m=\u001b[0m \u001b[0mre\u001b[0m\u001b[0;34m.\u001b[0m\u001b[0msub\u001b[0m\u001b[0;34m(\u001b[0m\u001b[0;34mr'[^\\w\\s]'\u001b[0m\u001b[0;34m,\u001b[0m\u001b[0;34m''\u001b[0m\u001b[0;34m,\u001b[0m \u001b[0mdocument\u001b[0m\u001b[0;34m[\u001b[0m\u001b[0;34m'text'\u001b[0m\u001b[0;34m]\u001b[0m\u001b[0;34m)\u001b[0m\u001b[0;34m\u001b[0m\u001b[0;34m\u001b[0m\u001b[0m\n\u001b[0m\u001b[1;32m     21\u001b[0m         \u001b[0mterms\u001b[0m \u001b[0;34m=\u001b[0m \u001b[0mclean_text\u001b[0m\u001b[0;34m.\u001b[0m\u001b[0msplit\u001b[0m\u001b[0;34m(\u001b[0m\u001b[0;34m' '\u001b[0m\u001b[0;34m)\u001b[0m\u001b[0;34m\u001b[0m\u001b[0;34m\u001b[0m\u001b[0m\n\u001b[1;32m     22\u001b[0m         \u001b[0mappearances_dict\u001b[0m \u001b[0;34m=\u001b[0m \u001b[0mdict\u001b[0m\u001b[0;34m(\u001b[0m\u001b[0;34m)\u001b[0m\u001b[0;34m\u001b[0m\u001b[0;34m\u001b[0m\u001b[0m\n",
      "\u001b[0;31mNameError\u001b[0m: name 're' is not defined"
     ]
    }
   ],
   "source": []
  },
  {
   "cell_type": "code",
   "execution_count": null,
   "id": "operational-gasoline",
   "metadata": {},
   "outputs": [],
   "source": []
  }
 ],
 "metadata": {
  "kernelspec": {
   "display_name": "Python 3",
   "language": "python",
   "name": "python3"
  },
  "language_info": {
   "codemirror_mode": {
    "name": "ipython",
    "version": 3
   },
   "file_extension": ".py",
   "mimetype": "text/x-python",
   "name": "python",
   "nbconvert_exporter": "python",
   "pygments_lexer": "ipython3",
   "version": "3.8.5"
  }
 },
 "nbformat": 4,
 "nbformat_minor": 5
}
