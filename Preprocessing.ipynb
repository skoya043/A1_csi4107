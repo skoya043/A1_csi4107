{
 "cells": [
  {
   "cell_type": "markdown",
   "id": "short-separation",
   "metadata": {},
   "source": [
    "# CSI 4107, Winter 2021\n",
    "## Assignment 1 - Microblog information retrieval system\n",
    "\n",
    "### Step 1: Preprocessing"
   ]
  },
  {
   "cell_type": "code",
   "execution_count": 43,
   "id": "binding-devil",
   "metadata": {},
   "outputs": [],
   "source": [
    "import pandas as pd\n",
    "import numpy as np\n",
    "import math\n",
    "import pandas_read_xml as pdx\n",
    "from nltk.corpus import stopwords\n",
    "from nltk.tokenize import RegexpTokenizer\n",
    "from nltk.tokenize.treebank import TreebankWordDetokenizer\n",
    "from collections import defaultdict\n",
    "from collections import Counter\n",
    "from sklearn.feature_extraction.text import TfidfVectorizer\n",
    "from sklearn.metrics import pairwise"
   ]
  },
  {
   "cell_type": "code",
   "execution_count": 44,
   "id": "extensive-patch",
   "metadata": {},
   "outputs": [
    {
     "data": {
      "text/html": [
       "<div>\n",
       "<style scoped>\n",
       "    .dataframe tbody tr th:only-of-type {\n",
       "        vertical-align: middle;\n",
       "    }\n",
       "\n",
       "    .dataframe tbody tr th {\n",
       "        vertical-align: top;\n",
       "    }\n",
       "\n",
       "    .dataframe thead th {\n",
       "        text-align: right;\n",
       "    }\n",
       "</style>\n",
       "<table border=\"1\" class=\"dataframe\">\n",
       "  <thead>\n",
       "    <tr style=\"text-align: right;\">\n",
       "      <th></th>\n",
       "      <th>num</th>\n",
       "      <th>title</th>\n",
       "      <th>querytime</th>\n",
       "      <th>querytweettime</th>\n",
       "    </tr>\n",
       "  </thead>\n",
       "  <tbody>\n",
       "    <tr>\n",
       "      <th>0</th>\n",
       "      <td>Number: MB001</td>\n",
       "      <td>BBC World Service staff cuts</td>\n",
       "      <td>Tue Feb 08 12:30:27 +0000 2011</td>\n",
       "      <td>34952194402811904</td>\n",
       "    </tr>\n",
       "    <tr>\n",
       "      <th>1</th>\n",
       "      <td>Number: MB002</td>\n",
       "      <td>2022 FIFA soccer</td>\n",
       "      <td>Tue Feb 08 18:51:44 +0000 2011</td>\n",
       "      <td>35048150574039040</td>\n",
       "    </tr>\n",
       "    <tr>\n",
       "      <th>2</th>\n",
       "      <td>Number: MB003</td>\n",
       "      <td>Haiti Aristide return</td>\n",
       "      <td>Tue Feb 08 21:32:13 +0000 2011</td>\n",
       "      <td>35088534306033665</td>\n",
       "    </tr>\n",
       "    <tr>\n",
       "      <th>3</th>\n",
       "      <td>Number: MB004</td>\n",
       "      <td>Mexico drug war</td>\n",
       "      <td>Wed Feb 02 17:22:14 +0000 2011</td>\n",
       "      <td>32851298193768448</td>\n",
       "    </tr>\n",
       "    <tr>\n",
       "      <th>4</th>\n",
       "      <td>Number: MB005</td>\n",
       "      <td>NIST computer security</td>\n",
       "      <td>Fri Feb 04 17:44:09 +0000 2011</td>\n",
       "      <td>33581589627666432</td>\n",
       "    </tr>\n",
       "  </tbody>\n",
       "</table>\n",
       "</div>"
      ],
      "text/plain": [
       "             num                         title  \\\n",
       "0  Number: MB001  BBC World Service staff cuts   \n",
       "1  Number: MB002              2022 FIFA soccer   \n",
       "2  Number: MB003         Haiti Aristide return   \n",
       "3  Number: MB004               Mexico drug war   \n",
       "4  Number: MB005        NIST computer security   \n",
       "\n",
       "                        querytime     querytweettime  \n",
       "0  Tue Feb 08 12:30:27 +0000 2011  34952194402811904  \n",
       "1  Tue Feb 08 18:51:44 +0000 2011  35048150574039040  \n",
       "2  Tue Feb 08 21:32:13 +0000 2011  35088534306033665  \n",
       "3  Wed Feb 02 17:22:14 +0000 2011  32851298193768448  \n",
       "4  Fri Feb 04 17:44:09 +0000 2011  33581589627666432  "
      ]
     },
     "execution_count": 44,
     "metadata": {},
     "output_type": "execute_result"
    }
   ],
   "source": [
    "queriesDf = pdx.read_xml(\"queries.xml\", ['queries', 'top'])\n",
    "queriesDf.head()"
   ]
  },
  {
   "cell_type": "code",
   "execution_count": 45,
   "id": "virgin-heating",
   "metadata": {
    "scrolled": true
   },
   "outputs": [
    {
     "data": {
      "text/html": [
       "<div>\n",
       "<style scoped>\n",
       "    .dataframe tbody tr th:only-of-type {\n",
       "        vertical-align: middle;\n",
       "    }\n",
       "\n",
       "    .dataframe tbody tr th {\n",
       "        vertical-align: top;\n",
       "    }\n",
       "\n",
       "    .dataframe thead th {\n",
       "        text-align: right;\n",
       "    }\n",
       "</style>\n",
       "<table border=\"1\" class=\"dataframe\">\n",
       "  <thead>\n",
       "    <tr style=\"text-align: right;\">\n",
       "      <th></th>\n",
       "      <th>ID</th>\n",
       "      <th>text</th>\n",
       "    </tr>\n",
       "  </thead>\n",
       "  <tbody>\n",
       "    <tr>\n",
       "      <th>0</th>\n",
       "      <td>34952194402811904</td>\n",
       "      <td>Save BBC World Service from Savage Cuts http:/...</td>\n",
       "    </tr>\n",
       "    <tr>\n",
       "      <th>1</th>\n",
       "      <td>34952186328784896</td>\n",
       "      <td>a lot of people always make fun about the end ...</td>\n",
       "    </tr>\n",
       "    <tr>\n",
       "      <th>2</th>\n",
       "      <td>34952041415581696</td>\n",
       "      <td>ReThink Group positive in outlook: Technology ...</td>\n",
       "    </tr>\n",
       "    <tr>\n",
       "      <th>3</th>\n",
       "      <td>34952018120409088</td>\n",
       "      <td>'Zombie' fund manager Phoenix appoints new CEO...</td>\n",
       "    </tr>\n",
       "    <tr>\n",
       "      <th>4</th>\n",
       "      <td>34952008683229185</td>\n",
       "      <td>Latest:: Top World Releases http://globalclass...</td>\n",
       "    </tr>\n",
       "  </tbody>\n",
       "</table>\n",
       "</div>"
      ],
      "text/plain": [
       "                  ID                                               text\n",
       "0  34952194402811904  Save BBC World Service from Savage Cuts http:/...\n",
       "1  34952186328784896  a lot of people always make fun about the end ...\n",
       "2  34952041415581696  ReThink Group positive in outlook: Technology ...\n",
       "3  34952018120409088  'Zombie' fund manager Phoenix appoints new CEO...\n",
       "4  34952008683229185  Latest:: Top World Releases http://globalclass..."
      ]
     },
     "execution_count": 45,
     "metadata": {},
     "output_type": "execute_result"
    }
   ],
   "source": [
    "df=pd.read_excel(\"messages.xls\", \n",
    "                  header=None, usecols=[0, 1], names=['ID', 'text'])\n",
    "df.head()"
   ]
  },
  {
   "cell_type": "code",
   "execution_count": 46,
   "id": "danish-frank",
   "metadata": {},
   "outputs": [],
   "source": [
    "stop = stopwords.words('english')"
   ]
  },
  {
   "cell_type": "code",
   "execution_count": null,
   "id": "straight-behavior",
   "metadata": {},
   "outputs": [],
   "source": [
    "\n"
   ]
  },
  {
   "cell_type": "code",
   "execution_count": 47,
   "id": "religious-shame",
   "metadata": {},
   "outputs": [
    {
     "name": "stderr",
     "output_type": "stream",
     "text": [
      "<ipython-input-47-d442573762f1>:2: FutureWarning: The default value of regex will change from True to False in a future version.\n",
      "  df['text_without_stopwords'] = df['text_without_stopwords'].str.replace('\\d+', '')\n",
      "<ipython-input-47-d442573762f1>:6: FutureWarning: The default value of regex will change from True to False in a future version.\n",
      "  queriesDf['text_without_stopwords'] = queriesDf['text_without_stopwords'].str.replace('\\d+', '')\n"
     ]
    }
   ],
   "source": [
    "df['text_without_stopwords'] = df['text'].apply(lambda x: ' '.join([word for word in str(x).split() if word not in (stop)]))\n",
    "df['text_without_stopwords'] = df['text_without_stopwords'].str.replace('\\d+', '')\n",
    "df['text_without_stopwords']=df['text_without_stopwords'].apply(str.lower)\n",
    "\n",
    "queriesDf['text_without_stopwords'] = queriesDf['title'].apply(lambda x: ' '.join([word for word in str(x).split() if word not in (stop)]))\n",
    "queriesDf['text_without_stopwords'] = queriesDf['text_without_stopwords'].str.replace('\\d+', '')\n",
    "queriesDf['text_without_stopwords'] = queriesDf['text_without_stopwords'].apply(str.lower)"
   ]
  },
  {
   "cell_type": "code",
   "execution_count": 48,
   "id": "parental-introduction",
   "metadata": {},
   "outputs": [],
   "source": [
    "queriesDf['topic_id'] = queriesDf['num'].apply(lambda x : x.split(' '))\n",
    "queriesDf['topic_id'] = queriesDf['topic_id'].apply(lambda x: x[1])"
   ]
  },
  {
   "cell_type": "code",
   "execution_count": 49,
   "id": "diverse-pottery",
   "metadata": {},
   "outputs": [
    {
     "data": {
      "text/html": [
       "<div>\n",
       "<style scoped>\n",
       "    .dataframe tbody tr th:only-of-type {\n",
       "        vertical-align: middle;\n",
       "    }\n",
       "\n",
       "    .dataframe tbody tr th {\n",
       "        vertical-align: top;\n",
       "    }\n",
       "\n",
       "    .dataframe thead th {\n",
       "        text-align: right;\n",
       "    }\n",
       "</style>\n",
       "<table border=\"1\" class=\"dataframe\">\n",
       "  <thead>\n",
       "    <tr style=\"text-align: right;\">\n",
       "      <th></th>\n",
       "      <th>num</th>\n",
       "      <th>title</th>\n",
       "      <th>querytime</th>\n",
       "      <th>querytweettime</th>\n",
       "      <th>text_without_stopwords</th>\n",
       "      <th>topic_id</th>\n",
       "    </tr>\n",
       "  </thead>\n",
       "  <tbody>\n",
       "    <tr>\n",
       "      <th>0</th>\n",
       "      <td>Number: MB001</td>\n",
       "      <td>BBC World Service staff cuts</td>\n",
       "      <td>Tue Feb 08 12:30:27 +0000 2011</td>\n",
       "      <td>34952194402811904</td>\n",
       "      <td>bbc world service staff cuts</td>\n",
       "      <td>MB001</td>\n",
       "    </tr>\n",
       "    <tr>\n",
       "      <th>1</th>\n",
       "      <td>Number: MB002</td>\n",
       "      <td>2022 FIFA soccer</td>\n",
       "      <td>Tue Feb 08 18:51:44 +0000 2011</td>\n",
       "      <td>35048150574039040</td>\n",
       "      <td>fifa soccer</td>\n",
       "      <td>MB002</td>\n",
       "    </tr>\n",
       "    <tr>\n",
       "      <th>2</th>\n",
       "      <td>Number: MB003</td>\n",
       "      <td>Haiti Aristide return</td>\n",
       "      <td>Tue Feb 08 21:32:13 +0000 2011</td>\n",
       "      <td>35088534306033665</td>\n",
       "      <td>haiti aristide return</td>\n",
       "      <td>MB003</td>\n",
       "    </tr>\n",
       "    <tr>\n",
       "      <th>3</th>\n",
       "      <td>Number: MB004</td>\n",
       "      <td>Mexico drug war</td>\n",
       "      <td>Wed Feb 02 17:22:14 +0000 2011</td>\n",
       "      <td>32851298193768448</td>\n",
       "      <td>mexico drug war</td>\n",
       "      <td>MB004</td>\n",
       "    </tr>\n",
       "    <tr>\n",
       "      <th>4</th>\n",
       "      <td>Number: MB005</td>\n",
       "      <td>NIST computer security</td>\n",
       "      <td>Fri Feb 04 17:44:09 +0000 2011</td>\n",
       "      <td>33581589627666432</td>\n",
       "      <td>nist computer security</td>\n",
       "      <td>MB005</td>\n",
       "    </tr>\n",
       "  </tbody>\n",
       "</table>\n",
       "</div>"
      ],
      "text/plain": [
       "             num                         title  \\\n",
       "0  Number: MB001  BBC World Service staff cuts   \n",
       "1  Number: MB002              2022 FIFA soccer   \n",
       "2  Number: MB003         Haiti Aristide return   \n",
       "3  Number: MB004               Mexico drug war   \n",
       "4  Number: MB005        NIST computer security   \n",
       "\n",
       "                        querytime     querytweettime  \\\n",
       "0  Tue Feb 08 12:30:27 +0000 2011  34952194402811904   \n",
       "1  Tue Feb 08 18:51:44 +0000 2011  35048150574039040   \n",
       "2  Tue Feb 08 21:32:13 +0000 2011  35088534306033665   \n",
       "3  Wed Feb 02 17:22:14 +0000 2011  32851298193768448   \n",
       "4  Fri Feb 04 17:44:09 +0000 2011  33581589627666432   \n",
       "\n",
       "         text_without_stopwords topic_id  \n",
       "0  bbc world service staff cuts    MB001  \n",
       "1                   fifa soccer    MB002  \n",
       "2         haiti aristide return    MB003  \n",
       "3               mexico drug war    MB004  \n",
       "4        nist computer security    MB005  "
      ]
     },
     "execution_count": 49,
     "metadata": {},
     "output_type": "execute_result"
    }
   ],
   "source": [
    "queriesDf.head()"
   ]
  },
  {
   "cell_type": "code",
   "execution_count": 50,
   "id": "united-sympathy",
   "metadata": {},
   "outputs": [
    {
     "data": {
      "text/html": [
       "<div>\n",
       "<style scoped>\n",
       "    .dataframe tbody tr th:only-of-type {\n",
       "        vertical-align: middle;\n",
       "    }\n",
       "\n",
       "    .dataframe tbody tr th {\n",
       "        vertical-align: top;\n",
       "    }\n",
       "\n",
       "    .dataframe thead th {\n",
       "        text-align: right;\n",
       "    }\n",
       "</style>\n",
       "<table border=\"1\" class=\"dataframe\">\n",
       "  <thead>\n",
       "    <tr style=\"text-align: right;\">\n",
       "      <th></th>\n",
       "      <th>ID</th>\n",
       "      <th>text</th>\n",
       "      <th>text_without_stopwords</th>\n",
       "    </tr>\n",
       "  </thead>\n",
       "  <tbody>\n",
       "    <tr>\n",
       "      <th>0</th>\n",
       "      <td>34952194402811904</td>\n",
       "      <td>Save BBC World Service from Savage Cuts http:/...</td>\n",
       "      <td>save bbc world service savage cuts http://www....</td>\n",
       "    </tr>\n",
       "    <tr>\n",
       "      <th>1</th>\n",
       "      <td>34952186328784896</td>\n",
       "      <td>a lot of people always make fun about the end ...</td>\n",
       "      <td>lot people always make fun end world question ...</td>\n",
       "    </tr>\n",
       "    <tr>\n",
       "      <th>2</th>\n",
       "      <td>34952041415581696</td>\n",
       "      <td>ReThink Group positive in outlook: Technology ...</td>\n",
       "      <td>rethink group positive outlook: technology sta...</td>\n",
       "    </tr>\n",
       "    <tr>\n",
       "      <th>3</th>\n",
       "      <td>34952018120409088</td>\n",
       "      <td>'Zombie' fund manager Phoenix appoints new CEO...</td>\n",
       "      <td>'zombie' fund manager phoenix appoints new ceo...</td>\n",
       "    </tr>\n",
       "    <tr>\n",
       "      <th>4</th>\n",
       "      <td>34952008683229185</td>\n",
       "      <td>Latest:: Top World Releases http://globalclass...</td>\n",
       "      <td>latest:: top world releases http://globalclass...</td>\n",
       "    </tr>\n",
       "  </tbody>\n",
       "</table>\n",
       "</div>"
      ],
      "text/plain": [
       "                  ID                                               text  \\\n",
       "0  34952194402811904  Save BBC World Service from Savage Cuts http:/...   \n",
       "1  34952186328784896  a lot of people always make fun about the end ...   \n",
       "2  34952041415581696  ReThink Group positive in outlook: Technology ...   \n",
       "3  34952018120409088  'Zombie' fund manager Phoenix appoints new CEO...   \n",
       "4  34952008683229185  Latest:: Top World Releases http://globalclass...   \n",
       "\n",
       "                              text_without_stopwords  \n",
       "0  save bbc world service savage cuts http://www....  \n",
       "1  lot people always make fun end world question ...  \n",
       "2  rethink group positive outlook: technology sta...  \n",
       "3  'zombie' fund manager phoenix appoints new ceo...  \n",
       "4  latest:: top world releases http://globalclass...  "
      ]
     },
     "execution_count": 50,
     "metadata": {},
     "output_type": "execute_result"
    }
   ],
   "source": [
    "df.head()"
   ]
  },
  {
   "cell_type": "code",
   "execution_count": 51,
   "id": "interracial-transaction",
   "metadata": {},
   "outputs": [],
   "source": [
    "tokenizer = RegexpTokenizer(r'\\w+')\n",
    "df['token'] = df['text_without_stopwords'].apply(tokenizer.tokenize)\n",
    "queriesDf['token'] = queriesDf['text_without_stopwords'].apply(tokenizer.tokenize)"
   ]
  },
  {
   "cell_type": "code",
   "execution_count": 52,
   "id": "based-guidance",
   "metadata": {},
   "outputs": [],
   "source": [
    "# detokenize for easier query/document vectorization\n",
    "df['detoken']=df['token'].apply(lambda x: TreebankWordDetokenizer().detokenize(x))\n",
    "queriesDf['detoken']=queriesDf['token'].apply(lambda x: TreebankWordDetokenizer().detokenize(x))"
   ]
  },
  {
   "cell_type": "code",
   "execution_count": 53,
   "id": "vocational-product",
   "metadata": {},
   "outputs": [
    {
     "data": {
      "text/html": [
       "<div>\n",
       "<style scoped>\n",
       "    .dataframe tbody tr th:only-of-type {\n",
       "        vertical-align: middle;\n",
       "    }\n",
       "\n",
       "    .dataframe tbody tr th {\n",
       "        vertical-align: top;\n",
       "    }\n",
       "\n",
       "    .dataframe thead th {\n",
       "        text-align: right;\n",
       "    }\n",
       "</style>\n",
       "<table border=\"1\" class=\"dataframe\">\n",
       "  <thead>\n",
       "    <tr style=\"text-align: right;\">\n",
       "      <th></th>\n",
       "      <th>num</th>\n",
       "      <th>title</th>\n",
       "      <th>querytime</th>\n",
       "      <th>querytweettime</th>\n",
       "      <th>text_without_stopwords</th>\n",
       "      <th>topic_id</th>\n",
       "      <th>token</th>\n",
       "      <th>detoken</th>\n",
       "    </tr>\n",
       "  </thead>\n",
       "  <tbody>\n",
       "    <tr>\n",
       "      <th>0</th>\n",
       "      <td>Number: MB001</td>\n",
       "      <td>BBC World Service staff cuts</td>\n",
       "      <td>Tue Feb 08 12:30:27 +0000 2011</td>\n",
       "      <td>34952194402811904</td>\n",
       "      <td>bbc world service staff cuts</td>\n",
       "      <td>MB001</td>\n",
       "      <td>[bbc, world, service, staff, cuts]</td>\n",
       "      <td>bbc world service staff cuts</td>\n",
       "    </tr>\n",
       "    <tr>\n",
       "      <th>1</th>\n",
       "      <td>Number: MB002</td>\n",
       "      <td>2022 FIFA soccer</td>\n",
       "      <td>Tue Feb 08 18:51:44 +0000 2011</td>\n",
       "      <td>35048150574039040</td>\n",
       "      <td>fifa soccer</td>\n",
       "      <td>MB002</td>\n",
       "      <td>[fifa, soccer]</td>\n",
       "      <td>fifa soccer</td>\n",
       "    </tr>\n",
       "    <tr>\n",
       "      <th>2</th>\n",
       "      <td>Number: MB003</td>\n",
       "      <td>Haiti Aristide return</td>\n",
       "      <td>Tue Feb 08 21:32:13 +0000 2011</td>\n",
       "      <td>35088534306033665</td>\n",
       "      <td>haiti aristide return</td>\n",
       "      <td>MB003</td>\n",
       "      <td>[haiti, aristide, return]</td>\n",
       "      <td>haiti aristide return</td>\n",
       "    </tr>\n",
       "    <tr>\n",
       "      <th>3</th>\n",
       "      <td>Number: MB004</td>\n",
       "      <td>Mexico drug war</td>\n",
       "      <td>Wed Feb 02 17:22:14 +0000 2011</td>\n",
       "      <td>32851298193768448</td>\n",
       "      <td>mexico drug war</td>\n",
       "      <td>MB004</td>\n",
       "      <td>[mexico, drug, war]</td>\n",
       "      <td>mexico drug war</td>\n",
       "    </tr>\n",
       "    <tr>\n",
       "      <th>4</th>\n",
       "      <td>Number: MB005</td>\n",
       "      <td>NIST computer security</td>\n",
       "      <td>Fri Feb 04 17:44:09 +0000 2011</td>\n",
       "      <td>33581589627666432</td>\n",
       "      <td>nist computer security</td>\n",
       "      <td>MB005</td>\n",
       "      <td>[nist, computer, security]</td>\n",
       "      <td>nist computer security</td>\n",
       "    </tr>\n",
       "  </tbody>\n",
       "</table>\n",
       "</div>"
      ],
      "text/plain": [
       "             num                         title  \\\n",
       "0  Number: MB001  BBC World Service staff cuts   \n",
       "1  Number: MB002              2022 FIFA soccer   \n",
       "2  Number: MB003         Haiti Aristide return   \n",
       "3  Number: MB004               Mexico drug war   \n",
       "4  Number: MB005        NIST computer security   \n",
       "\n",
       "                        querytime     querytweettime  \\\n",
       "0  Tue Feb 08 12:30:27 +0000 2011  34952194402811904   \n",
       "1  Tue Feb 08 18:51:44 +0000 2011  35048150574039040   \n",
       "2  Tue Feb 08 21:32:13 +0000 2011  35088534306033665   \n",
       "3  Wed Feb 02 17:22:14 +0000 2011  32851298193768448   \n",
       "4  Fri Feb 04 17:44:09 +0000 2011  33581589627666432   \n",
       "\n",
       "         text_without_stopwords topic_id                               token  \\\n",
       "0  bbc world service staff cuts    MB001  [bbc, world, service, staff, cuts]   \n",
       "1                   fifa soccer    MB002                      [fifa, soccer]   \n",
       "2         haiti aristide return    MB003           [haiti, aristide, return]   \n",
       "3               mexico drug war    MB004                 [mexico, drug, war]   \n",
       "4        nist computer security    MB005          [nist, computer, security]   \n",
       "\n",
       "                        detoken  \n",
       "0  bbc world service staff cuts  \n",
       "1                   fifa soccer  \n",
       "2         haiti aristide return  \n",
       "3               mexico drug war  \n",
       "4        nist computer security  "
      ]
     },
     "execution_count": 53,
     "metadata": {},
     "output_type": "execute_result"
    }
   ],
   "source": [
    "queriesDf.head()"
   ]
  },
  {
   "cell_type": "code",
   "execution_count": 54,
   "id": "loaded-brief",
   "metadata": {},
   "outputs": [
    {
     "data": {
      "text/html": [
       "<div>\n",
       "<style scoped>\n",
       "    .dataframe tbody tr th:only-of-type {\n",
       "        vertical-align: middle;\n",
       "    }\n",
       "\n",
       "    .dataframe tbody tr th {\n",
       "        vertical-align: top;\n",
       "    }\n",
       "\n",
       "    .dataframe thead th {\n",
       "        text-align: right;\n",
       "    }\n",
       "</style>\n",
       "<table border=\"1\" class=\"dataframe\">\n",
       "  <thead>\n",
       "    <tr style=\"text-align: right;\">\n",
       "      <th></th>\n",
       "      <th>ID</th>\n",
       "      <th>text</th>\n",
       "      <th>text_without_stopwords</th>\n",
       "      <th>token</th>\n",
       "      <th>detoken</th>\n",
       "    </tr>\n",
       "  </thead>\n",
       "  <tbody>\n",
       "    <tr>\n",
       "      <th>0</th>\n",
       "      <td>34952194402811904</td>\n",
       "      <td>Save BBC World Service from Savage Cuts http:/...</td>\n",
       "      <td>save bbc world service savage cuts http://www....</td>\n",
       "      <td>[save, bbc, world, service, savage, cuts, http...</td>\n",
       "      <td>save bbc world service savage cuts http www pe...</td>\n",
       "    </tr>\n",
       "    <tr>\n",
       "      <th>1</th>\n",
       "      <td>34952186328784896</td>\n",
       "      <td>a lot of people always make fun about the end ...</td>\n",
       "      <td>lot people always make fun end world question ...</td>\n",
       "      <td>[lot, people, always, make, fun, end, world, q...</td>\n",
       "      <td>lot people always make fun end world question ...</td>\n",
       "    </tr>\n",
       "    <tr>\n",
       "      <th>2</th>\n",
       "      <td>34952041415581696</td>\n",
       "      <td>ReThink Group positive in outlook: Technology ...</td>\n",
       "      <td>rethink group positive outlook: technology sta...</td>\n",
       "      <td>[rethink, group, positive, outlook, technology...</td>\n",
       "      <td>rethink group positive outlook technology staf...</td>\n",
       "    </tr>\n",
       "    <tr>\n",
       "      <th>3</th>\n",
       "      <td>34952018120409088</td>\n",
       "      <td>'Zombie' fund manager Phoenix appoints new CEO...</td>\n",
       "      <td>'zombie' fund manager phoenix appoints new ceo...</td>\n",
       "      <td>[zombie, fund, manager, phoenix, appoints, new...</td>\n",
       "      <td>zombie fund manager phoenix appoints new ceo p...</td>\n",
       "    </tr>\n",
       "    <tr>\n",
       "      <th>4</th>\n",
       "      <td>34952008683229185</td>\n",
       "      <td>Latest:: Top World Releases http://globalclass...</td>\n",
       "      <td>latest:: top world releases http://globalclass...</td>\n",
       "      <td>[latest, top, world, releases, http, globalcla...</td>\n",
       "      <td>latest top world releases http globalclassifie...</td>\n",
       "    </tr>\n",
       "  </tbody>\n",
       "</table>\n",
       "</div>"
      ],
      "text/plain": [
       "                  ID                                               text  \\\n",
       "0  34952194402811904  Save BBC World Service from Savage Cuts http:/...   \n",
       "1  34952186328784896  a lot of people always make fun about the end ...   \n",
       "2  34952041415581696  ReThink Group positive in outlook: Technology ...   \n",
       "3  34952018120409088  'Zombie' fund manager Phoenix appoints new CEO...   \n",
       "4  34952008683229185  Latest:: Top World Releases http://globalclass...   \n",
       "\n",
       "                              text_without_stopwords  \\\n",
       "0  save bbc world service savage cuts http://www....   \n",
       "1  lot people always make fun end world question ...   \n",
       "2  rethink group positive outlook: technology sta...   \n",
       "3  'zombie' fund manager phoenix appoints new ceo...   \n",
       "4  latest:: top world releases http://globalclass...   \n",
       "\n",
       "                                               token  \\\n",
       "0  [save, bbc, world, service, savage, cuts, http...   \n",
       "1  [lot, people, always, make, fun, end, world, q...   \n",
       "2  [rethink, group, positive, outlook, technology...   \n",
       "3  [zombie, fund, manager, phoenix, appoints, new...   \n",
       "4  [latest, top, world, releases, http, globalcla...   \n",
       "\n",
       "                                             detoken  \n",
       "0  save bbc world service savage cuts http www pe...  \n",
       "1  lot people always make fun end world question ...  \n",
       "2  rethink group positive outlook technology staf...  \n",
       "3  zombie fund manager phoenix appoints new ceo p...  \n",
       "4  latest top world releases http globalclassifie...  "
      ]
     },
     "execution_count": 54,
     "metadata": {},
     "output_type": "execute_result"
    }
   ],
   "source": [
    "df.head()\n"
   ]
  },
  {
   "cell_type": "code",
   "execution_count": 55,
   "id": "described-fusion",
   "metadata": {},
   "outputs": [
    {
     "data": {
      "text/plain": [
       "['bbc',\n",
       " 'news',\n",
       " 'charles',\n",
       " 'taylor',\n",
       " 'lawyer',\n",
       " 'storms',\n",
       " 'war',\n",
       " 'crimes',\n",
       " 'trial',\n",
       " 'http',\n",
       " 'www',\n",
       " 'bbc',\n",
       " 'co',\n",
       " 'uk',\n",
       " 'news',\n",
       " 'world',\n",
       " 'africa']"
      ]
     },
     "execution_count": 55,
     "metadata": {},
     "output_type": "execute_result"
    }
   ],
   "source": [
    "#test to see if numbers have been removed\n",
    "df['token'][26]\n"
   ]
  },
  {
   "cell_type": "code",
   "execution_count": 56,
   "id": "enormous-christianity",
   "metadata": {},
   "outputs": [
    {
     "data": {
      "text/plain": [
       "['come',\n",
       " 'have',\n",
       " 'heart',\n",
       " 'save',\n",
       " 'our',\n",
       " 'homes',\n",
       " 'no',\n",
       " 'cuts',\n",
       " 'to',\n",
       " 'hud',\n",
       " 'monday',\n",
       " 'february',\n",
       " 'pm',\n",
       " 'pm',\n",
       " 'help',\n",
       " 'save',\n",
       " 'http',\n",
       " 'fb',\n",
       " 'me',\n",
       " 'kdjvjr']"
      ]
     },
     "execution_count": 56,
     "metadata": {},
     "output_type": "execute_result"
    }
   ],
   "source": [
    "df['token'][404]"
   ]
  },
  {
   "cell_type": "code",
   "execution_count": 57,
   "id": "synthetic-soviet",
   "metadata": {},
   "outputs": [
    {
     "data": {
      "text/plain": [
       "['yay', 'one', 'favorite', 'episodes', 'boy', 'meets', 'world']"
      ]
     },
     "execution_count": 57,
     "metadata": {},
     "output_type": "execute_result"
    }
   ],
   "source": [
    "df['token'][28]\n"
   ]
  },
  {
   "cell_type": "code",
   "execution_count": 58,
   "id": "shared-accommodation",
   "metadata": {},
   "outputs": [
    {
     "data": {
      "text/plain": [
       "['poll',\n",
       " 'finds',\n",
       " 'oppose',\n",
       " 'new',\n",
       " 'airport',\n",
       " 'security',\n",
       " 'measures',\n",
       " 'money',\n",
       " 'company',\n",
       " 'los',\n",
       " 'angeles',\n",
       " 'times',\n",
       " 'http',\n",
       " 'latimesblogs',\n",
       " 'http',\n",
       " 'pi',\n",
       " 'pe',\n",
       " 'rwkc']"
      ]
     },
     "execution_count": 58,
     "metadata": {},
     "output_type": "execute_result"
    }
   ],
   "source": [
    "df['token'][22452]"
   ]
  },
  {
   "cell_type": "markdown",
   "id": "becoming-music",
   "metadata": {},
   "source": [
    "### Step 2: Indexing"
   ]
  },
  {
   "cell_type": "code",
   "execution_count": 59,
   "id": "north-vietnamese",
   "metadata": {},
   "outputs": [],
   "source": [
    "\n",
    "\n",
    "# key, [(doc, count)]\n",
    "# key [doc]\n",
    "\n",
    "\n",
    "def create_index (data):\n",
    "        index = defaultdict(list)\n",
    "        count=0\n",
    "        for i, tokens in enumerate(data):\n",
    "            for token in tokens:\n",
    "                index[token].append(i)\n",
    "                #index[save].append(doc)\n",
    "        return index\n",
    "\n",
    "\n",
    "\n",
    "def count_occurrences(arr):\n",
    "    return list(Counter(arr).items())\n",
    "\n",
    "#    for d in dictionary:\n",
    "#        return list(Counter(dictionary[d]).items())\n",
    "\n",
    "def final_index(index):\n",
    "    final=defaultdict(list)\n",
    "    for key in index.keys():\n",
    "        final[key] = count_occurrences(index[key])\n",
    "    return final\n",
    "\n",
    "# each token (save, bbc) as your dict key\n",
    "# append the count_occurrences based on index\n",
    "#final_index creates the final hash table for inverted index. {word: [(doc#, number of occurrences in that document)]}\n",
    "# doc# in this case is the line number of the table, not the message ID.\n",
    "    \n",
    "    "
   ]
  },
  {
   "cell_type": "code",
   "execution_count": 60,
   "id": "fuzzy-teens",
   "metadata": {
    "scrolled": false
   },
   "outputs": [],
   "source": [
    "test=create_index(df['token'])\n",
    "test2=count_occurrences([0, 1, 44, 44, 443])\n",
    "#test2\n",
    "test3=final_index(test)\n",
    "#test3"
   ]
  },
  {
   "cell_type": "code",
   "execution_count": 101,
   "id": "different-preliminary",
   "metadata": {},
   "outputs": [
    {
     "name": "stdout",
     "output_type": "stream",
     "text": [
      "51065\n",
      "['save', 'bbc', 'world', 'service', 'savage', 'cuts', 'http', 'www', 'petitionbuzz', 'com', 'petitions', 'savews', 'lot', 'people', 'always', 'make', 'fun', 'end', 'question', 'is', 'are', 'u', 'ready', 'for', 'it', 'rethink', 'group', 'positive', 'outlook', 'technology', 'staffing', 'specialist', 'expects', 'revenues', 'marg', 'bit', 'ly', 'hfjtmy', 'zombie', 'fund', 'manager', 'phoenix', 'appoints', 'new', 'ceo', 'buys', 'funds', 'closed', 'business', 'dxrlh', 'latest', 'top', 'releases', 'globalclassified', 'net', 'cdt', 'presents', 'alice', 'in', 'wonderland', 'catonsville', 'dinner', 'posted', 'the', 'fb', 'me', 'gmicayt', 'territory', 'location', 'calgary', 'alberta', 'canada', 'job', 'category', 'bu', 'eomt', 'jobs', 'news', 'today', 'free', 'school', 'funding', 'plans', 'lack', 'transparency', 'co', 'uk', 'hi', 'newsid_', 'stm', 'manchester', 'city', 'council', 'details', 'saving', 'plan', 'fypypc', 'depressing', 'apparently', 'we']\n"
     ]
    }
   ],
   "source": [
    "print(list(test3.keys())[0:100]) # get a sample of 100 tokens from vocab"
   ]
  },
  {
   "cell_type": "markdown",
   "id": "sensitive-struggle",
   "metadata": {},
   "source": [
    "### Step 3: Retrieval and Ranking\n",
    "#### 3.1. Vectorization of the corpus and extraction of the vocabulary"
   ]
  },
  {
   "cell_type": "code",
   "execution_count": 61,
   "id": "closing-lithuania",
   "metadata": {},
   "outputs": [],
   "source": [
    "# creating tf-idfs matrix\n",
    "corpus = df['detoken']\n",
    "\n",
    "\n",
    "# use X[doc_id, term_id] to get the td-idf for the term and document.\n",
    "docVectorizer = TfidfVectorizer()\n",
    "docMatrix = docVectorizer.fit_transform(corpus)\n",
    "\n",
    "# getting the vocabulary (set of terms in the corpus)\n",
    "docVocabulary = docVectorizer.vocabulary_\n",
    "# use vocabulary.get('some_term') which would return None if the word doesn't exist\n",
    "\n",
    "docMatrixArr = docMatrix.toarray()\n",
    "\n",
    "# print(vocabulary)\n",
    "#print(df['detoken'].shape)\n",
    "\n"
   ]
  },
  {
   "cell_type": "code",
   "execution_count": 108,
   "id": "female-seventh",
   "metadata": {},
   "outputs": [
    {
     "name": "stdout",
     "output_type": "stream",
     "text": [
      "50953\n"
     ]
    }
   ],
   "source": [
    "print(len(docVocabulary)) # size of vocab"
   ]
  },
  {
   "cell_type": "markdown",
   "id": "sixth-uncertainty",
   "metadata": {},
   "source": [
    "#### 3.2. Function to vectorize a query using the document vocabulary and queries vectorization\n",
    "\n",
    "The function below returns an array of len = # queries. Each element in the array has a len = # of terms in the corpus and tf-idf values for each term in the query only terms that are both in the query and the corpus will have tf-idf values since the vocabulary of the corpus is being used for the vectorization of the query. In the assignment, we have a total of 50953 terms that will be used as part of the vocabulary. "
   ]
  },
  {
   "cell_type": "code",
   "execution_count": 62,
   "id": "modern-literacy",
   "metadata": {},
   "outputs": [],
   "source": [
    "# functions for query processing\n",
    "def transform_query (q, voc):\n",
    "    queryVectorizer = TfidfVectorizer(vocabulary = voc)\n",
    "    qMatrix = queryVectorizer.fit_transform(q)\n",
    "    qMatrixArr = qMatrix.toarray()\n",
    "    return qMatrixArr[0]\n",
    "\n",
    "#sample_query = 'BBC World Service staff cuts'\n",
    "#sample_query_transformation = transform_query([sample_query], docVocabulary)\n",
    "#print(len(sample_query_transformation)) #should return 50953 which is the total number of terms"
   ]
  },
  {
   "cell_type": "code",
   "execution_count": 63,
   "id": "prostate-specific",
   "metadata": {},
   "outputs": [],
   "source": [
    "# queries vectorization\n",
    "#queriesDf['title'][0]\n",
    "\n",
    "queriesVectArr = []\n",
    "\n",
    "for i in range (len(queriesDf['title'])):\n",
    "    currQuery = queriesDf['title'][i]\n",
    "    currQueryVect = transform_query([currQuery], docVocabulary)\n",
    "    queriesVectArr.append(currQueryVect)\n"
   ]
  },
  {
   "cell_type": "code",
   "execution_count": 64,
   "id": "framed-elevation",
   "metadata": {},
   "outputs": [],
   "source": [
    "# print(len(queriesVectArr[0])) # this should return 50953"
   ]
  },
  {
   "cell_type": "markdown",
   "id": "caring-density",
   "metadata": {},
   "source": [
    "#### 3.3. Calculating similarity \n",
    "\n",
    "Similarity between each query and the list of documents \n",
    "The results will be an array of 49 array, each array will be of len = # documents."
   ]
  },
  {
   "cell_type": "code",
   "execution_count": 65,
   "id": "reduced-money",
   "metadata": {},
   "outputs": [],
   "source": [
    "testQueriesMatrix = transform_query([queriesDf['title'][0]], docVocabulary)\n",
    "similarityMatrix = pairwise.cosine_similarity(queriesVectArr, docMatrixArr)"
   ]
  },
  {
   "cell_type": "code",
   "execution_count": 66,
   "id": "metropolitan-seventh",
   "metadata": {},
   "outputs": [],
   "source": [
    "# len(similarityMatrix[0])\n",
    "# similarityMatrix[0][0]\n",
    "# type(similarityMatrix)  # numpy.ndarray"
   ]
  },
  {
   "cell_type": "markdown",
   "id": "addressed-pursuit",
   "metadata": {},
   "source": [
    "#### 3.4. Ranking results\n",
    "Building an 2D - array containing the top 1000 documents for each query"
   ]
  },
  {
   "cell_type": "code",
   "execution_count": 67,
   "id": "looking-karma",
   "metadata": {},
   "outputs": [],
   "source": [
    "def get_top_results(simArr):\n",
    "    top_1000 = [] # array of doc ids of top 1000 results\n",
    "    simArr2D = [] # creating a 2d array of type [[doc_id, similarity value],...]\n",
    "    \n",
    "    for i in range(len(simArr)):\n",
    "        simArr2D.append([i + 1, simArr[i]])\n",
    "        \n",
    "    # print(\"simArr2D\")\n",
    "    # print(simArr2D)\n",
    "    \n",
    "    simArr2DSorted = sorted(simArr2D, key = lambda x : x[1], reverse = True)\n",
    "    \n",
    "    #print(\"simArr2D sorted\")\n",
    "    #print(simArr2DSorted)\n",
    "    \n",
    "    for i in range(1000):\n",
    "        top_1000.append(simArr2DSorted[i])\n",
    "    \n",
    "    return top_1000"
   ]
  },
  {
   "cell_type": "code",
   "execution_count": 68,
   "id": "proper-indonesian",
   "metadata": {},
   "outputs": [],
   "source": [
    "# test\n",
    "# print(get_top_results(similarityMatrix[0]))"
   ]
  },
  {
   "cell_type": "code",
   "execution_count": 69,
   "id": "packed-group",
   "metadata": {},
   "outputs": [],
   "source": [
    "resultsMatrix = []\n",
    "for i in range(len(similarityMatrix)):\n",
    "    currQueryMatrix = similarityMatrix[i]\n",
    "    currQueryTopResults = get_top_results(currQueryMatrix)\n",
    "    resultsMatrix.append(currQueryTopResults)"
   ]
  },
  {
   "cell_type": "code",
   "execution_count": 70,
   "id": "activated-garden",
   "metadata": {},
   "outputs": [],
   "source": [
    "# test\n",
    "# print(len(resultsMatrix[47]))\n",
    "# print(resultsMatrix[0])\n",
    "# print(resultsMatrix[3])\n",
    "# print(resultsMatrix[7])\n",
    "# print(resultsMatrix[43])\n",
    "# print(len(resultsMatrix))\n",
    "# print(len(resultsMatrix[0]))\n",
    "# print(len(resultsMatrix[0][0]))"
   ]
  },
  {
   "cell_type": "markdown",
   "id": "functional-cleanup",
   "metadata": {},
   "source": [
    "### 4 Writing results to file\n"
   ]
  },
  {
   "cell_type": "code",
   "execution_count": 71,
   "id": "golden-photography",
   "metadata": {},
   "outputs": [],
   "source": [
    "# sample line: topic_id Q0 docno rank score tag\n",
    "# topic_id: queriesDf['topic_id'][i]\n",
    "# docno: df['ID'][resultsMatrix[i][j][0]]\n",
    "# rank: j from resultsMatrix[i], +1 because highest rank is 1 not 0\n",
    "# score: resultsMatrix[i][j][1]\n",
    "# tag: passed in at function call\n",
    "\n",
    "    \n",
    "def write_results(tag, resultMatrix):\n",
    "    \n",
    "    f = open(\"results.txt\", \"w+\")\n",
    "    \n",
    "    for i in range(len(resultMatrix)):\n",
    "        topic_id = queriesDf['topic_id'][i][2:].lstrip('0') #[2:].lstrip('0') to strip \"MB\" and leading 0s to end up with plain number\n",
    "        for j in range(len(resultMatrix[i])):\n",
    "            docno = df['ID'][resultsMatrix[i][j][0]]\n",
    "            rank = j +1\n",
    "            score = resultsMatrix[i][j][1]\n",
    "            new_line = topic_id + \" Q0 \" + str(docno) + \" \" + str(rank) + \" \" + str(score) + \" \" + tag + \"\\n\"\n",
    "            f.write(new_line)\n",
    "        \n",
    "    f.close()\n",
    "    "
   ]
  },
  {
   "cell_type": "code",
   "execution_count": 72,
   "id": "expressed-rebate",
   "metadata": {},
   "outputs": [],
   "source": [
    "# test\n",
    "write_results(\"hello\", resultsMatrix)\n"
   ]
  }
 ],
 "metadata": {
  "kernelspec": {
   "display_name": "Python 3",
   "language": "python",
   "name": "python3"
  },
  "language_info": {
   "codemirror_mode": {
    "name": "ipython",
    "version": 3
   },
   "file_extension": ".py",
   "mimetype": "text/x-python",
   "name": "python",
   "nbconvert_exporter": "python",
   "pygments_lexer": "ipython3",
   "version": "3.9.0"
  }
 },
 "nbformat": 4,
 "nbformat_minor": 5
}
